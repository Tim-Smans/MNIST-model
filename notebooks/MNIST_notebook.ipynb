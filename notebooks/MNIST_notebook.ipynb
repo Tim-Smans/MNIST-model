{
 "cells": [
  {
   "cell_type": "code",
   "execution_count": 2,
   "id": "fe9a77db-6d1f-48d3-9100-e778585bdda5",
   "metadata": {},
   "outputs": [
    {
     "name": "stdout",
     "output_type": "stream",
     "text": [
      "Finished importing libraries\n"
     ]
    }
   ],
   "source": [
    "#Importing libraries\n",
    "import torch\n",
    "import torch.nn as nn\n",
    "import torch.optim as optim\n",
    "import torchvision\n",
    "import torchvision.transforms as transforms\n",
    "from torch.utils.data import DataLoader\n",
    "import matplotlib.pyplot as plt\n",
    "\n",
    "print(\"Finished importing libraries\")"
   ]
  },
  {
   "cell_type": "code",
   "execution_count": 6,
   "id": "bae9ec91-4daf-4c12-93c8-a4df06294d48",
   "metadata": {},
   "outputs": [
    {
     "name": "stdout",
     "output_type": "stream",
     "text": [
      "Finished loading data\n"
     ]
    }
   ],
   "source": [
    "#Loading data \n",
    "\n",
    "#Compose is used to combine multiple transformations\n",
    "# ToTensor -> Converts PIL-image to pyTorch tensor (value between 0 and 1)\n",
    "# Normalize -> Normalizes the pixel values so they are between 0 and 1. This helps the model to run more smoothly\n",
    "transform = transforms.Compose(\n",
    "    [\n",
    "        transforms.ToTensor(),\n",
    "        transforms.Normalize((0.5,), (0.5,))\n",
    "    ]\n",
    ")\n",
    "\n",
    "#Loads in the MNIST dataset and saves it in ./data\n",
    "# Train -> Because we want to use training data.\n",
    "# Download -> It will download the data if it isn't avaible yet.\n",
    "# Transform -> Apply's the transformations we declared above.\n",
    "trainset = torchvision.datasets.MNIST(\n",
    "    root='./data', train=True,\n",
    "    download=True, transform=transform\n",
    ")\n",
    "#Converts the dataset to a dataloader. This will deliver batches for training.\n",
    "trainloader = torch.utils.data.DataLoader(trainset, batch_size=32, shuffle=True)\n",
    "\n",
    "#Same thing for testing data.\n",
    "testset = torchvision.datasets.MNIST(\n",
    "    root='./data', train=False,\n",
    "    download=True, transform=transform\n",
    ")\n",
    "\n",
    "testloader = torch.utils.data.DataLoader(testset, batch_size=32, shuffle=False)\n",
    "\n",
    "# Selecteer een afbeelding uit de dataset (bijvoorbeeld de eerste afbeelding)\n",
    "image, label = testset[101]\n",
    "\n",
    "# Converteer de afbeelding terug naar een bruikbaar formaat\n",
    "# De afbeelding is genormaliseerd, dus we moeten deze denormaliseren\n",
    "image = image * 0.5 + 0.5  # Denormaliseer\n",
    "image = transforms.ToPILImage()(image)  # Converteer naar PIL-afbeelding\n",
    "\n",
    "# Sla de afbeelding op als een PNG-bestand\n",
    "image.save(\"mnist_image.png\")\n",
    "\n",
    "print(\"Finished loading data\")"
   ]
  },
  {
   "cell_type": "code",
   "execution_count": 3,
   "id": "4f25e8e9-680e-4710-99dd-4a68b5d61aa6",
   "metadata": {},
   "outputs": [
    {
     "name": "stdout",
     "output_type": "stream",
     "text": [
      "Finished defining the model\n"
     ]
    }
   ],
   "source": [
    "#Defining a pyTorch model\n",
    "# We also initialise this model using the pyCharm nn.Module  \n",
    "\n",
    "# self.fc:\n",
    "# nn.Sequential -> Makes sure they everthing inside is run top to bottom\n",
    "# Flatten -> Transforms 2D image into a vector. A fully connected layer expects a 1D-array\n",
    "# Linear 1 -> This is a fully connected (dense) layer. The input has 784 Neurons (1 for every pixel). \n",
    "#           The output has 128 Neurons which means we get back 128 features. This will recognize important paterns.\n",
    "# ReLU   -> This is complex, Will look into it later.\n",
    "# Linear 2 -> This is the output layer. The input has 128 features and will return 10 neurons. One for every number 0-9\n",
    "\n",
    "# Forward -> Sends an image through all the steps from self.fc\n",
    " \n",
    "class MNISTModel(nn.Module):\n",
    "    def __init__(self):\n",
    "        super().__init__()\n",
    "        self.fc = nn.Sequential(\n",
    "            nn.Flatten(),\n",
    "            nn.Linear(28*28, 128),\n",
    "            nn.ReLU(),\n",
    "            nn.Linear(128, 10)\n",
    "        )\n",
    "    \n",
    "    def forward(self, x):\n",
    "        return self.fc(x)\n",
    "\n",
    "#Initialises the model. \n",
    "model = MNISTModel()\n",
    "\n",
    "print(\"Finished defining the model\")"
   ]
  },
  {
   "cell_type": "code",
   "execution_count": 4,
   "id": "a1bc1e3f-13b8-471f-9582-bd793d96a6d2",
   "metadata": {},
   "outputs": [
    {
     "name": "stdout",
     "output_type": "stream",
     "text": [
      "Finished defining loss function\n"
     ]
    }
   ],
   "source": [
    "#This defines the loss function that is used to measure how good/bad the model is operating.\n",
    "# It gives a high value when the model makes a bad prediction and a low value when it makes a good prediction.\n",
    "criterion = nn.CrossEntropyLoss()\n",
    "\n",
    "#Here we decide how the model learns\n",
    "# Adam -> Is a popular model optimiser, it changes the weights of the network to minimize loss.\n",
    "optimizer = optim.Adam(\n",
    "    model.parameters(), \n",
    "    lr=0.001\n",
    ")\n",
    "\n",
    "print(\"Finished defining loss function\")"
   ]
  },
  {
   "cell_type": "code",
   "execution_count": 5,
   "id": "b4084f40-1dd2-491f-a2ea-71c6e1935c4a",
   "metadata": {},
   "outputs": [
    {
     "name": "stdout",
     "output_type": "stream",
     "text": [
      "Starting training\n",
      "Epoch 1/5 Loss: 0.3467\n",
      "Epoch 2/5 Loss: 0.1762\n",
      "Epoch 3/5 Loss: 0.1307\n",
      "Epoch 4/5 Loss: 0.1081\n",
      "Epoch 5/5 Loss: 0.0959\n",
      "Finished training\n"
     ]
    }
   ],
   "source": [
    "# Training the model\n",
    "\n",
    "#Epoch = A loop of the entire training data.\n",
    "#Loss = The loss of an epoch is how bad the model is operating. The goal is to get this as low as possible\n",
    "#       but not 0, because that would be overfitting the model.\n",
    "\n",
    "#Inside the trainloader (which will run the training data in batches):\n",
    "# optimizer -> Responsible for updating the mode weights. .zero_grod() makes sure it is reset to 0 at the start of every batch\n",
    "# outputs = model(images) -> This feeds the images into the neural network model. \n",
    "# loss -> This compares the model predictions (the outputs) to the labels, a higher loss means the model is performing poorly\n",
    "# loss.backward -> This is backpropagation, here we calculate how much weight each weight in the model is contributed to the error.\n",
    "# optimizer.step -> This updates the weights of the model based on what is calculated in loss.backward.\n",
    "\n",
    "print(\"Starting training\")\n",
    "\n",
    "epochs = 5 \n",
    "for epoch in range(epochs):\n",
    "    running_loss = 0.0\n",
    "    for images, labels in trainloader:\n",
    "        optimizer.zero_grad()         \n",
    "        outputs = model(images)      \n",
    "        loss = criterion(outputs, labels) \n",
    "        loss.backward()                   \n",
    "        optimizer.step()               \n",
    "        \n",
    "        running_loss += loss.item()\n",
    "    \n",
    "    print(f\"Epoch {epoch+1}/{epochs} Loss: {running_loss/len(trainloader):.4f}\")\n",
    "\n",
    "print(\"Finished training\")"
   ]
  },
  {
   "cell_type": "code",
   "execution_count": 6,
   "id": "a1e1253c-9261-4b96-a9fc-87fb0ea4d177",
   "metadata": {},
   "outputs": [
    {
     "name": "stdout",
     "output_type": "stream",
     "text": [
      "Test Accuracy: 96.01%\n"
     ]
    }
   ],
   "source": [
    "#Evaluate the model\n",
    "#Here we are evaluating how good our model is performing, and just how accurate it is when testing.\n",
    "#torch.no_grad -> Disables gradients, to speed up calculations.\n",
    "#predicted -> Stores the index of the highest value, which is also the predicted digit.\n",
    "#correct -> Counts how many of the predictions where correct and adds it to correct.\n",
    "\n",
    "correct = 0\n",
    "total = 0\n",
    "with torch.no_grad(): \n",
    "    for images, labels in testloader:\n",
    "        outputs = model(images) \n",
    "        _, predicted = torch.max(outputs, 1) \n",
    "        total += labels.size(0)\n",
    "        correct += (predicted == labels).sum().item()\n",
    "\n",
    "accuracy = 100 * correct / total\n",
    "print(f\"Test Accuracy: {accuracy:.2f}%\")"
   ]
  },
  {
   "cell_type": "code",
   "execution_count": 7,
   "id": "8328606f-9983-47be-ba95-9c50f70a91b8",
   "metadata": {},
   "outputs": [],
   "source": [
    "#Saving my trained model\n",
    "\n",
    "model_path = \"mnist_model.pth\"\n",
    "torch.save(model.state_dict(), model_path)"
   ]
  },
  {
   "cell_type": "code",
   "execution_count": 8,
   "id": "c442f5fc-7334-4833-a615-d2b93b7fb970",
   "metadata": {},
   "outputs": [
    {
     "data": {
      "image/png": "[encoded data removed]",
      "text/plain": [
       "<Figure size 640x480 with 1 Axes>"
      ]
     },
     "metadata": {},
     "output_type": "display_data"
    },
    {
     "name": "stdout",
     "output_type": "stream",
     "text": [
      "Model predicts: 7, Correct answer: 7\n"
     ]
    }
   ],
   "source": [
    "#Using the model to predict a random number\n",
    "#We pick an image out of our array of testing data and let our trained model predict the number that is on it.\n",
    "# plt.imshow -> Plots the image\n",
    "# .show -> Shows the image. \n",
    "# .unqsueeze -> Because our model expects a batch of images we have to make our single image into a batch. \n",
    "#               unsqueezing the image creates a batch of one image.\n",
    "# model.eval -> Puts the model into evaluation mode.\n",
    "\n",
    "sample_image, sample_label = testset[0]  \n",
    "plt.imshow(sample_image.squeeze(), cmap='gray')\n",
    "plt.show()\n",
    "\n",
    "sample_image = sample_image.unsqueeze(0) \n",
    "model.eval() \n",
    "prediction = model(sample_image)\n",
    "predicted_label = torch.argmax(prediction).item()\n",
    "print(f\"Model predicts: {predicted_label}, Correct answer: {sample_label}\")\n"
   ]
  },
  {
   "cell_type": "code",
   "execution_count": null,
   "id": "fb623329-d494-41cf-8d0c-551cc55d8302",
   "metadata": {},
   "outputs": [],
   "source": []
  }
 ],
 "metadata": {
  "kernelspec": {
   "display_name": "Python 3 (ipykernel)",
   "language": "python",
   "name": "python3"
  },
  "language_info": {
   "codemirror_mode": {
    "name": "ipython",
    "version": 3
   },
   "file_extension": ".py",
   "mimetype": "text/x-python",
   "name": "python",
   "nbconvert_exporter": "python",
   "pygments_lexer": "ipython3",
   "version": "3.13.0"
  }
 },
 "nbformat": 4,
 "nbformat_minor": 5
}
